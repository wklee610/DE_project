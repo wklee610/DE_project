{
 "cells": [
  {
   "cell_type": "code",
   "execution_count": 3,
   "metadata": {},
   "outputs": [
    {
     "name": "stdout",
     "output_type": "stream",
     "text": [
      "    index  day     titleName  titleID authorName  authorID  rating   \n",
      "0       1  mon  2023 요즘연애 특)   807831   네이버웹툰 작가    305532    9.56  \\\n",
      "1       2  mon       뷰티풀 군바리   648419   설이 / 윤성원    648419    9.81   \n",
      "2       3  mon          신의 탑   183559        SIU    155779    9.88   \n",
      "3       4  mon       퀘스트지상주의   783052   박태준 만화회사    351540    9.80   \n",
      "4       5  mon     장씨세가 호위무사   728750  김인호 / 조형근    728750    9.93   \n",
      "..    ...  ...           ...      ...        ...       ...     ...   \n",
      "86     87  mon         중독연구소   740132        김택기    330839    9.85   \n",
      "87     88  mon          디나운스   789591         윤예    353227    9.78   \n",
      "88     89  mon     별을 쫓는 소년들   786979       HYBE    352114    9.02   \n",
      "89     90  mon       오로지 오로라   764623         홍달    342377    9.89   \n",
      "90     91  mon      행운을 부탁해!   799868         해롱    358099    9.86   \n",
      "\n",
      "                                                  url platform  \n",
      "0   https://comic.naver.com/webtoon/list?titleId=8...    naver  \n",
      "1   https://comic.naver.com/webtoon/list?titleId=6...    naver  \n",
      "2   https://comic.naver.com/webtoon/list?titleId=1...    naver  \n",
      "3   https://comic.naver.com/webtoon/list?titleId=7...    naver  \n",
      "4   https://comic.naver.com/webtoon/list?titleId=7...    naver  \n",
      "..                                                ...      ...  \n",
      "86  https://comic.naver.com/webtoon/list?titleId=7...    naver  \n",
      "87  https://comic.naver.com/webtoon/list?titleId=7...    naver  \n",
      "88  https://comic.naver.com/webtoon/list?titleId=7...    naver  \n",
      "89  https://comic.naver.com/webtoon/list?titleId=7...    naver  \n",
      "90  https://comic.naver.com/webtoon/list?titleId=7...    naver  \n",
      "\n",
      "[91 rows x 9 columns]\n"
     ]
    }
   ],
   "source": [
    "import os\n",
    "import pandas as pd\n",
    "\n",
    "folder_path = '/Users/andy/Desktop/github/DE_project/naver_webtoon/data/webtoon_day_data'\n",
    "output_file_name = 'title_with_genre_column_fixed.csv'\n",
    "file_name = 'webtoon_mon_data.csv'\n",
    "#new_df = pd.DataFrame()\n",
    "file_path = os.path.join(folder_path, file_name)\n",
    "df = pd.read_csv(file_path)\n",
    "df['platform'] = 'naver'\n",
    "print(df)\n",
    "\n",
    "\n"
   ]
  },
  {
   "cell_type": "code",
   "execution_count": 10,
   "metadata": {},
   "outputs": [
    {
     "ename": "NameError",
     "evalue": "name 'file' is not defined",
     "output_type": "error",
     "traceback": [
      "\u001b[0;31m---------------------------------------------------------------------------\u001b[0m",
      "\u001b[0;31mNameError\u001b[0m                                 Traceback (most recent call last)",
      "Cell \u001b[0;32mIn [10], line 8\u001b[0m\n\u001b[1;32m      6\u001b[0m \u001b[39m#폴더 안에 모든 파일\u001b[39;00m\n\u001b[1;32m      7\u001b[0m file_paths \u001b[39m=\u001b[39m [os\u001b[39m.\u001b[39mpath\u001b[39m.\u001b[39mjoin(folder_path, file) \u001b[39mfor\u001b[39;00m file \u001b[39min\u001b[39;00m os\u001b[39m.\u001b[39mlistdir(folder_path)]\n\u001b[0;32m----> 8\u001b[0m \u001b[39mprint\u001b[39m(file)\n",
      "\u001b[0;31mNameError\u001b[0m: name 'file' is not defined"
     ]
    }
   ],
   "source": [
    "import os\n",
    "import pandas as pd\n",
    "\n",
    "folder_path = '/Users/andy/Desktop/github/DE_project/naver_webtoon/data/webtoon_day_data'\n",
    "output_path = '/Users/andy/Desktop/github/DE_project/naver_webtoon/data/platform_included_data/'\n",
    "#폴더 안에 모든 파일\n",
    "file_paths = [os.path.join(folder_path, file) for file in os.listdir(folder_path)]\n",
    "print(file)\n",
    "# for file_path in file_paths:\n",
    "#     df = pd.read_csv(file_path)\n",
    "    \n",
    "#     df['plaform'] = 'naver'\n",
    "    \n",
    "#     df.to_csv(output_path, index=False)\n"
   ]
  },
  {
   "cell_type": "code",
   "execution_count": 11,
   "metadata": {},
   "outputs": [],
   "source": [
    "import os\n",
    "import pandas as pd\n",
    "\n",
    "# 입력 폴더와 출력 폴더 경로 설정\n",
    "input_path = '/Users/andy/Desktop/github/DE_project/naver_webtoon/data/webtoon_day_data'\n",
    "output_path = '/Users/andy/Desktop/github/DE_project/naver_webtoon/data/platform_included_data'\n",
    "\n",
    "# 입력 폴더 내에 있는 모든 csv 파일에 대해 작업 수행\n",
    "for filename in os.listdir(input_path):\n",
    "    if filename.endswith('.csv'):\n",
    "        # csv 파일 읽어오기\n",
    "        input_file = os.path.join(input_path, filename)\n",
    "        df = pd.read_csv(input_file)\n",
    "        \n",
    "        # 새로운 컬럼 추가\n",
    "        df['platform'] = 'naver'\n",
    "        \n",
    "        # 새로운 파일 저장\n",
    "        output_file = os.path.join(output_path, filename)\n",
    "        df.to_csv(output_file, index=False)"
   ]
  },
  {
   "cell_type": "code",
   "execution_count": 17,
   "metadata": {},
   "outputs": [
    {
     "name": "stdout",
     "output_type": "stream",
     "text": [
      "      index     day  titleName  titleID       authorName  authorID  rating   \n",
      "0         1     tue        김부장   783053   박태준 만화회사 / 정종택    783053    9.42  \\\n",
      "1         2     tue  내가 키운 S급들   784248   seri / 비완 / 근서    784248    9.95   \n",
      "2         3     tue     마루는 강쥐   796152               모죠    325321    9.98   \n",
      "3         4     tue   대학원 탈출일지   790713               요다    353932    9.98   \n",
      "4         5     tue      한림체육관   743139         혜성 / 이석재    743139    9.76   \n",
      "...     ...     ...        ...      ...              ...       ...     ...   \n",
      "2476   2477  finish         AA    20762  선정, 지숙 / 지숙, 선정     20762    9.68   \n",
      "2477   2478  finish       사랑in    15439              전세훈        36    9.51   \n",
      "2478   2479  finish         까뱅    22073           X-TEAM        50    8.84   \n",
      "2479   2480  finish        와탕카    15938              우주인        85    9.63   \n",
      "2480   2481  finish         타투    15569              노지현        22    9.20   \n",
      "\n",
      "                                                    url platform  \n",
      "0     https://comic.naver.com/webtoon/list?titleId=7...    naver  \n",
      "1     https://comic.naver.com/webtoon/list?titleId=7...    naver  \n",
      "2     https://comic.naver.com/webtoon/list?titleId=7...    naver  \n",
      "3     https://comic.naver.com/webtoon/list?titleId=7...    naver  \n",
      "4     https://comic.naver.com/webtoon/list?titleId=7...    naver  \n",
      "...                                                 ...      ...  \n",
      "2476  https://comic.naver.com/webtoon/list?titleId=2...    naver  \n",
      "2477  https://comic.naver.com/webtoon/list?titleId=1...    naver  \n",
      "2478  https://comic.naver.com/webtoon/list?titleId=2...    naver  \n",
      "2479  https://comic.naver.com/webtoon/list?titleId=1...    naver  \n",
      "2480  https://comic.naver.com/webtoon/list?titleId=1...    naver  \n",
      "\n",
      "[2481 rows x 9 columns]\n"
     ]
    }
   ],
   "source": [
    "import os\n",
    "import pandas as pd\n",
    "\n",
    "df = pd.read_csv('/Users/andy/Desktop/github/DE_project/naver_webtoon/data/webtoon_day_data.csv')\n",
    "df['platform'] = 'naver'\n",
    "print(df)\n",
    "#df.to_csv('../data/webtoon_day_data_platform.csv', index=False)"
   ]
  }
 ],
 "metadata": {
  "kernelspec": {
   "display_name": "Python 3",
   "language": "python",
   "name": "python3"
  },
  "language_info": {
   "codemirror_mode": {
    "name": "ipython",
    "version": 3
   },
   "file_extension": ".py",
   "mimetype": "text/x-python",
   "name": "python",
   "nbconvert_exporter": "python",
   "pygments_lexer": "ipython3",
   "version": "3.9.5"
  },
  "orig_nbformat": 4,
  "vscode": {
   "interpreter": {
    "hash": "aee8b7b246df8f9039afb4144a1f6fd8d2ca17a180786b69acc140d282b71a49"
   }
  }
 },
 "nbformat": 4,
 "nbformat_minor": 2
}
