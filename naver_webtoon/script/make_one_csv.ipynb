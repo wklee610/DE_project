{
 "cells": [
  {
   "cell_type": "code",
   "execution_count": 1,
   "metadata": {},
   "outputs": [],
   "source": [
    "import os\n",
    "import pandas as pd"
   ]
  },
  {
   "cell_type": "code",
   "execution_count": 1,
   "metadata": {},
   "outputs": [
    {
     "ename": "NameError",
     "evalue": "name 'pd' is not defined",
     "output_type": "error",
     "traceback": [
      "\u001b[0;31m---------------------------------------------------------------------------\u001b[0m",
      "\u001b[0;31mNameError\u001b[0m                                 Traceback (most recent call last)",
      "Cell \u001b[0;32mIn [1], line 5\u001b[0m\n\u001b[1;32m      2\u001b[0m output_file_name \u001b[39m=\u001b[39m \u001b[39m'\u001b[39m\u001b[39mtitle_with_genre.csv\u001b[39m\u001b[39m'\u001b[39m\n\u001b[1;32m      4\u001b[0m save_path \u001b[39m=\u001b[39m \u001b[39m'\u001b[39m\u001b[39m/Users/andy/Desktop/github/DE_project/naver_webtoon/data/\u001b[39m\u001b[39m'\u001b[39m\n\u001b[0;32m----> 5\u001b[0m merged_df \u001b[39m=\u001b[39m pd\u001b[39m.\u001b[39mDataFrame()\n\u001b[1;32m      7\u001b[0m \u001b[39mfor\u001b[39;00m file_name \u001b[39min\u001b[39;00m os\u001b[39m.\u001b[39mlistdir(folder_path):\n\u001b[1;32m      8\u001b[0m     \u001b[39mif\u001b[39;00m file_name\u001b[39m.\u001b[39mendswith(\u001b[39m'\u001b[39m\u001b[39m.csv\u001b[39m\u001b[39m'\u001b[39m):\n",
      "\u001b[0;31mNameError\u001b[0m: name 'pd' is not defined"
     ]
    }
   ],
   "source": [
    "folder_path = '/Users/andy/Desktop/github/DE_project/naver_webtoon/data/genre_title/'\n",
    "output_file_name = 'title_with_genre.csv'\n",
    "\n",
    "save_path = '/Users/andy/Desktop/github/DE_project/naver_webtoon/data/'\n",
    "merged_df = pd.DataFrame()\n",
    "\n",
    "for file_name in os.listdir(folder_path):\n",
    "    if file_name.endswith('.csv'):\n",
    "        file_path = os.path.join(folder_path, file_name)\n",
    "        df = pd.read_csv(file_path)\n",
    "        merged_df = pd.concat([merged_df, df], ignore_index=True)\n",
    "\n",
    "# 결과를 csv 파일로 저장\n",
    "output_file_path = os.path.join(save_path, output_file_name)\n",
    "merged_df.to_csv(output_file_path, index=False)"
   ]
  },
  {
   "cell_type": "code",
   "execution_count": 12,
   "metadata": {},
   "outputs": [
    {
     "name": "stdout",
     "output_type": "stream",
     "text": [
      "      index genre        titleName  titleID authorName  authorID\n",
      "1         1   폭스남              올가미   732988        해무리    327561\n",
      "2         2   폭스남    내가 죽기로 결심한 것은   783523       YUJU    351898\n",
      "3         3   폭스남             여우놀이   768469        황혜진    348754\n",
      "4         4   폭스남             유사연애   804653         여은    342512\n",
      "5         5   폭스남       고백 취소도 되나?   783524         신매    332173\n",
      "...     ...   ...              ...      ...        ...       ...\n",
      "5818    172    개그         속편한 신입사원   687128        곽백수        19\n",
      "5819    173    개그      열가지 묻지馬 이야기   113511   네이버웹툰 작가    305532\n",
      "5820    174    개그        알파라이징 라이프   150535        김양수        10\n",
      "5821    175    개그        슈퍼트리오 시즌2   347685        황미나        44\n",
      "5822    176    개그  태환이의 GOLD STORY   377688        김규삼         4\n",
      "\n",
      "[5822 rows x 6 columns]\n"
     ]
    }
   ],
   "source": [
    "import os\n",
    "import pandas as pd\n",
    "import glob\n",
    "\n",
    "all_files = glob.glob(\"/Users/andy/Desktop/github/DE_project/naver_webtoon/data/genre_title/*.csv\")\n",
    "\n",
    "df = pd.concat((pd.read_csv(f) for f in all_files), ignore_index=False)\n",
    "\n",
    "# df.drop('index', axis=1, inplace=True)\n",
    "\n",
    "df = df.reset_index(drop=True)\n",
    "df.index += 1\n",
    "print(df)\n",
    "df.to_csv('../data/title_genre.csv', index_label='new_index')\n"
   ]
  },
  {
   "cell_type": "code",
   "execution_count": 2,
   "metadata": {},
   "outputs": [],
   "source": [
    "import pandas as pd\n",
    "import glob\n",
    "\n",
    "all_files = glob.glob(\"/Users/andy/Desktop/github/DE_project/naver_webtoon/data/webtoon_day_data/*.csv\")\n",
    "\n",
    "df = pd.concat((pd.read_csv(f) for f in all_files), ignore_index=True)\n",
    "df.drop('index', axis=1, inplace=True)\n",
    "\n",
    "df.index += 1\n",
    "#df.to_csv('../data/title_with_genre.csv', index_label='index')\n",
    "df.to_csv('../data/webtoon_day_data.csv', index_label='index')"
   ]
  }
 ],
 "metadata": {
  "kernelspec": {
   "display_name": "Python 3",
   "language": "python",
   "name": "python3"
  },
  "language_info": {
   "codemirror_mode": {
    "name": "ipython",
    "version": 3
   },
   "file_extension": ".py",
   "mimetype": "text/x-python",
   "name": "python",
   "nbconvert_exporter": "python",
   "pygments_lexer": "ipython3",
   "version": "3.9.5"
  },
  "orig_nbformat": 4,
  "vscode": {
   "interpreter": {
    "hash": "aee8b7b246df8f9039afb4144a1f6fd8d2ca17a180786b69acc140d282b71a49"
   }
  }
 },
 "nbformat": 4,
 "nbformat_minor": 2
}
