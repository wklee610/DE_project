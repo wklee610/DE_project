{
 "cells": [
  {
   "cell_type": "code",
   "execution_count": 65,
   "metadata": {},
   "outputs": [],
   "source": [
    "from bs4 import BeautifulSoup\n",
    "import requests\n",
    "import pandas as pd\n",
    "#from fake_useragent import UserAgent\n",
    "from selenium.webdriver.common.by import By\n",
    "from selenium import webdriver"
   ]
  },
  {
   "cell_type": "code",
   "execution_count": 66,
   "metadata": {},
   "outputs": [
    {
     "name": "stderr",
     "output_type": "stream",
     "text": [
      "/var/folders/7p/4qg7xngs2p9cwv9rq97048fc0000gn/T/ipykernel_25040/530843676.py:1: DeprecationWarning: executable_path has been deprecated, please pass in a Service object\n",
      "  driver = webdriver.Chrome('chromedriver.exe')\n"
     ]
    }
   ],
   "source": [
    "driver = webdriver.Chrome('chromedriver.exe')\n"
   ]
  },
  {
   "cell_type": "code",
   "execution_count": 67,
   "metadata": {},
   "outputs": [],
   "source": [
    "URL = \"https://comic.naver.com/webtoon?tab=\"\n",
    "days = ['mon', 'tue', 'wed', 'thu','fri','sat','sun','dailyPlus', 'new', 'finish']"
   ]
  },
  {
   "cell_type": "code",
   "execution_count": 68,
   "metadata": {},
   "outputs": [],
   "source": [
    "driver.get(URL + days[0])"
   ]
  },
  {
   "cell_type": "code",
   "execution_count": null,
   "metadata": {},
   "outputs": [],
   "source": [
    "soup = BeautifulSoup(driver.page_source, 'html.parser')\n",
    "data = soup.find_all('li', attrs={\"class\" : \"item\"})\n"
   ]
  },
  {
   "cell_type": "code",
   "execution_count": 58,
   "metadata": {},
   "outputs": [],
   "source": [
    "#headers = {'User-Agent' : UserAgent().chrome}"
   ]
  },
  {
   "cell_type": "code",
   "execution_count": 60,
   "metadata": {},
   "outputs": [],
   "source": [
    "df = pd.DataFrame(columns=['days','title', 'author', 'rating', 'url'])"
   ]
  },
  {
   "cell_type": "code",
   "execution_count": 61,
   "metadata": {},
   "outputs": [
    {
     "name": "stdout",
     "output_type": "stream",
     "text": [
      "<!DOCTYPE html>\n",
      "<html lang=\"ko\">\n",
      "<head>\n",
      "<title>네이버 웹툰</title>\n",
      "<link href=\"https://ssl.pstatic.net/static/m/comic/im/favicon/1804/webtoon_favicon_32x32.ico\" rel=\"shortcut icon\" type=\"image/x-icon\"/>\n",
      "<meta charset=\"utf-8\"/>\n",
      "<meta content=\"ie=edge\" http-equiv=\"x-ua-compatible\"/>\n",
      "<meta content=\"article\" property=\"og:type\"/>\n",
      "<meta content=\"네이버 웹툰\" property=\"og:article:author\"/>\n",
      "<meta content=\"https://comic.naver.com\" property=\"og:article:author:url\"/>\n",
      "<meta content=\"네이버 웹툰\" property=\"og:title\"/>\n",
      "<meta content=\"https://ssl.pstatic.net/static/comic/images/og_tag_v2.png\" property=\"og:image\"/>\n",
      "<meta content=\"http://comic.naver.com/webtoontab=mon\" property=\"og:url\"/>\n",
      "<meta content=\"매일매일 새로운 재미, 네이버 웹툰.\" property=\"og:description\"/>\n",
      "<script>\n",
      "\t\tif (/MSIE \\d|Trident.*rv:/.test(navigator.userAgent)) {\n",
      "\t\t\twindow.location = 'microsoft-edge:' + window.location;\n",
      "\t\t\tsetTimeout(function () {\n",
      "\t\t\t\twindow.location = 'https://go.microsoft.com/fwlink/?linkid=2135547';\n",
      "\t\t\t}, 1);\n",
      "\t\t}\n",
      "\t</script>\n",
      "<script async=\"\" src=\"https://ssl.pstatic.net/tveta/libs/glad/prod/gfp-core.js\"></script>\n",
      "<script>\n",
      "\t\tvar ccsrv = 'cc.naver.com';\n",
      "\t\twindow.gladsdk = window.gladsdk || { cmd: [] };\n",
      "\t</script>\n",
      "</head>\n",
      "<body>\n",
      "<div id=\"root\"></div>\n",
      "</body>\n",
      "<script src=\"/runtime-4a93260e84564ff4ecdb.js\" type=\"text/javascript\"></script>\n",
      "<script src=\"/vendor-react-d37d9c657a271200d9cf.js\" type=\"text/javascript\"></script>\n",
      "<script src=\"/vendor-react-common-9fc837dada41110dc1fd.js\" type=\"text/javascript\"></script>\n",
      "<script src=\"/vendor-common-0b0b0cc3031d3b0a1965.js\" type=\"text/javascript\"></script>\n",
      "<script src=\"/vendor-log-8df3dc520d958957bcbd.js\" type=\"text/javascript\"></script>\n",
      "<script src=\"/router-08fcd57cb4d630efd408.js\" type=\"text/javascript\"></script>\n",
      "</html>\n",
      "\n"
     ]
    }
   ],
   "source": [
    "week_url = requests.get(URL + days[0], headers=headers)\n",
    "soup = BeautifulSoup(week_url.text, 'lxml')\n",
    "print(soup)\n",
    "# data = soup.find_all('ul', attrs={\"class\" : \"ContentList__content_list--q5KXY\"})\n",
    "# #data = soup.find('ul.ContentList__content_list--q5KXY')\n",
    "# print(data)"
   ]
  },
  {
   "cell_type": "code",
   "execution_count": 38,
   "metadata": {},
   "outputs": [
    {
     "name": "stdout",
     "output_type": "stream",
     "text": [
      "[]\n",
      "[]\n",
      "[]\n",
      "[]\n",
      "[]\n",
      "[]\n",
      "[]\n",
      "[]\n",
      "[]\n",
      "[]\n"
     ]
    }
   ],
   "source": [
    "for day in days:\n",
    "    week_url = requests.get(URL + day, headers=headers)\n",
    "    soup = BeautifulSoup(week_url.text, 'html.parser')\n",
    "    data = soup.select('li.item')\n",
    "    #data = soup.select('a.ContentList__info_area--bXx7h')\n",
    "    print(data)\n",
    "    #data = soup.find('div', {'class': 'list_area daily_img'})\n",
    "    #print(data)\n",
    "    # data = data.findAll('dl') #\n",
    "    # days = day"
   ]
  },
  {
   "cell_type": "code",
   "execution_count": null,
   "metadata": {},
   "outputs": [],
   "source": []
  },
  {
   "cell_type": "code",
   "execution_count": null,
   "metadata": {},
   "outputs": [],
   "source": []
  }
 ],
 "metadata": {
  "kernelspec": {
   "display_name": "Python 3",
   "language": "python",
   "name": "python3"
  },
  "language_info": {
   "codemirror_mode": {
    "name": "ipython",
    "version": 3
   },
   "file_extension": ".py",
   "mimetype": "text/x-python",
   "name": "python",
   "nbconvert_exporter": "python",
   "pygments_lexer": "ipython3",
   "version": "3.9.5"
  },
  "orig_nbformat": 4,
  "vscode": {
   "interpreter": {
    "hash": "aee8b7b246df8f9039afb4144a1f6fd8d2ca17a180786b69acc140d282b71a49"
   }
  }
 },
 "nbformat": 4,
 "nbformat_minor": 2
}
