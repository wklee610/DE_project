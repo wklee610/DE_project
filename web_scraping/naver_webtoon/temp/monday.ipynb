{
 "cells": [
  {
   "cell_type": "code",
   "execution_count": 18,
   "metadata": {},
   "outputs": [
    {
     "name": "stderr",
     "output_type": "stream",
     "text": [
      "/var/folders/7p/4qg7xngs2p9cwv9rq97048fc0000gn/T/ipykernel_60253/1547704011.py:8: DeprecationWarning: executable_path has been deprecated, please pass in a Service object\n",
      "  driver = webdriver.Chrome('../chromedriver.exe')\n"
     ]
    }
   ],
   "source": [
    "from bs4 import BeautifulSoup\n",
    "import requests\n",
    "import pandas as pd\n",
    "#from fake_useragent import UserAgent\n",
    "from selenium.webdriver.common.by import By\n",
    "from selenium import webdriver\n",
    "\n",
    "driver = webdriver.Chrome('../chromedriver.exe')\n"
   ]
  },
  {
   "cell_type": "code",
   "execution_count": 19,
   "metadata": {},
   "outputs": [],
   "source": [
    "#days = ['mon', 'tue', 'wed', 'thu','fri','sat','sun','dailyPlus', 'new', 'finish']\n",
    "day = 'mon'\n",
    "URL = f\"https://comic.naver.com/webtoon?tab={day}\"\n",
    "df = pd.DataFrame(columns=['day','titleName', 'titleID', 'authorName', 'authorID','rating', 'url'])\n",
    "\n",
    "driver.get(URL)"
   ]
  },
  {
   "cell_type": "code",
   "execution_count": 21,
   "metadata": {},
   "outputs": [],
   "source": [
    "soup = BeautifulSoup(driver.page_source, 'html.parser')\n",
    "data = soup.find_all('div', attrs={\"class\" : \"ContentList__info_area--bXx7h\"})"
   ]
  },
  {
   "cell_type": "code",
   "execution_count": 22,
   "metadata": {},
   "outputs": [],
   "source": [
    "soup = BeautifulSoup(driver.page_source, 'html.parser')\n",
    "data = soup.find_all('div', attrs={\"class\" : \"ContentList__info_area--bXx7h\"})\n",
    "\n",
    "for i in range(len(data)):\n",
    "    titleName = data[i].findAll('a')[0].findAll('span')[-1].text\n",
    "            \n",
    "    titleID = data[i].find('a')['href'].split('=')[-1]\n",
    "    try:\n",
    "        authorID = data[i].findAll('a')[1]['href'].split('=')[1]\n",
    "    except IndexError:\n",
    "        authorID = data[i].findAll('a')[0]['href'].split('=')[1]\n",
    "            \n",
    "    try:\n",
    "        authorName = data[i].findAll('a')[1].text\n",
    "    except IndexError:\n",
    "        authorName = data[i].findAll('a')[0].text\n",
    "            \n",
    "    if data[i].findAll('span')[0].text == 'UP' or data[i].findAll('span')[0].text == '휴재':\n",
    "        rating = data[i].findAll('span')[5].text\n",
    "    else:\n",
    "        rating = data[i].findAll('span')[4].text\n",
    "    \n",
    "    url = f\"https://comic.naver.com{data[i].findAll('a')[0]['href']}\"\n",
    "            \n",
    "            # df = pd.DataFrame(columns=['day','title', 'authorID', 'authorName','rating', 'url'])\n",
    "    df = pd.concat([df, pd.DataFrame([[day, titleName, titleID, authorName, authorID, rating, url]],\n",
    "                                    columns = ['day','titleName', 'titleID', 'authorName', 'authorID','rating', 'url'])], ignore_index=True)"
   ]
  },
  {
   "cell_type": "code",
   "execution_count": 23,
   "metadata": {},
   "outputs": [],
   "source": [
    "df.index += 1\n",
    "df.to_csv(f'./data/webtoon_{day}_data.csv', index_label='index')"
   ]
  },
  {
   "cell_type": "code",
   "execution_count": 24,
   "metadata": {},
   "outputs": [],
   "source": [
    "driver.close()"
   ]
  },
  {
   "cell_type": "code",
   "execution_count": 30,
   "metadata": {},
   "outputs": [
    {
     "name": "stderr",
     "output_type": "stream",
     "text": [
      "/var/folders/7p/4qg7xngs2p9cwv9rq97048fc0000gn/T/ipykernel_60253/2259471744.py:15: DeprecationWarning: executable_path has been deprecated, please pass in a Service object\n",
      "  driver = webdriver.Chrome('../chromedriver.exe', options=chrome_options)\n"
     ]
    }
   ],
   "source": [
    "from bs4 import BeautifulSoup\n",
    "import requests\n",
    "import pandas as pd\n",
    "#from fake_useragent import UserAgent\n",
    "from selenium.webdriver.common.by import By\n",
    "from selenium import webdriver\n",
    "\n",
    "#days = ['mon', 'tue', 'wed', 'thu','fri','sat','sun','dailyPlus', 'new', 'finish']\n",
    "#days = ['mon', 'tue', 'wed', 'thu','fri','sat','sun','dailyPlus', 'new']\n",
    "\n",
    "day = 'mon'\n",
    "    \n",
    "chrome_options = webdriver.ChromeOptions()\n",
    "chrome_options.add_argument('headless')\n",
    "driver = webdriver.Chrome('../chromedriver.exe', options=chrome_options)\n",
    "\n",
    "URL = f\"https://comic.naver.com/webtoon?tab={day}\"\n",
    "df = pd.DataFrame(columns=['day','titleName', 'titleID', 'authorName', 'authorID','rating', 'url'])\n",
    "driver.get(URL)\n",
    "\n",
    "soup = BeautifulSoup(driver.page_source, 'html.parser')\n",
    "data = soup.find_all('div', attrs={\"class\" : \"ContentList__info_area--bXx7h\"})\n",
    "\n",
    "soup = BeautifulSoup(driver.page_source, 'html.parser')\n",
    "data = soup.find_all('div', attrs={\"class\" : \"ContentList__info_area--bXx7h\"})"
   ]
  },
  {
   "cell_type": "code",
   "execution_count": 34,
   "metadata": {},
   "outputs": [
    {
     "name": "stdout",
     "output_type": "stream",
     "text": [
      "[<a class=\"ContentTitle__title_area--x24vt\" href=\"/webtoon\"><span class=\"ContentTitle__title--e3qXt\"><span class=\"text\"></span></span></a>, <a class=\"ContentAuthor__author--CTAAP\"></a>]\n"
     ]
    }
   ],
   "source": [
    "print(data[0].findAll(''))"
   ]
  },
  {
   "cell_type": "code",
   "execution_count": 26,
   "metadata": {},
   "outputs": [
    {
     "ename": "KeyError",
     "evalue": "'href'",
     "output_type": "error",
     "traceback": [
      "\u001b[0;31m---------------------------------------------------------------------------\u001b[0m",
      "\u001b[0;31mKeyError\u001b[0m                                  Traceback (most recent call last)",
      "Cell \u001b[0;32mIn [26], line 6\u001b[0m\n\u001b[1;32m      4\u001b[0m titleID \u001b[39m=\u001b[39m data[i]\u001b[39m.\u001b[39mfind(\u001b[39m'\u001b[39m\u001b[39ma\u001b[39m\u001b[39m'\u001b[39m)[\u001b[39m'\u001b[39m\u001b[39mhref\u001b[39m\u001b[39m'\u001b[39m]\u001b[39m.\u001b[39msplit(\u001b[39m'\u001b[39m\u001b[39m=\u001b[39m\u001b[39m'\u001b[39m)[\u001b[39m-\u001b[39m\u001b[39m1\u001b[39m]\n\u001b[1;32m      5\u001b[0m \u001b[39mtry\u001b[39;00m:\n\u001b[0;32m----> 6\u001b[0m     authorID \u001b[39m=\u001b[39m data[i]\u001b[39m.\u001b[39;49mfindAll(\u001b[39m'\u001b[39;49m\u001b[39ma\u001b[39;49m\u001b[39m'\u001b[39;49m)[\u001b[39m1\u001b[39;49m][\u001b[39m'\u001b[39;49m\u001b[39mhref\u001b[39;49m\u001b[39m'\u001b[39;49m]\u001b[39m.\u001b[39msplit(\u001b[39m'\u001b[39m\u001b[39m=\u001b[39m\u001b[39m'\u001b[39m)[\u001b[39m1\u001b[39m]\n\u001b[1;32m      7\u001b[0m \u001b[39mexcept\u001b[39;00m \u001b[39mIndexError\u001b[39;00m:\n\u001b[1;32m      8\u001b[0m     authorID \u001b[39m=\u001b[39m data[i]\u001b[39m.\u001b[39mfindAll(\u001b[39m'\u001b[39m\u001b[39ma\u001b[39m\u001b[39m'\u001b[39m)[\u001b[39m0\u001b[39m][\u001b[39m'\u001b[39m\u001b[39mhref\u001b[39m\u001b[39m'\u001b[39m]\u001b[39m.\u001b[39msplit(\u001b[39m'\u001b[39m\u001b[39m=\u001b[39m\u001b[39m'\u001b[39m)[\u001b[39m1\u001b[39m]\n",
      "File \u001b[0;32m/Library/Frameworks/Python.framework/Versions/3.9/lib/python3.9/site-packages/bs4/element.py:1519\u001b[0m, in \u001b[0;36mTag.__getitem__\u001b[0;34m(self, key)\u001b[0m\n\u001b[1;32m   1516\u001b[0m \u001b[39mdef\u001b[39;00m \u001b[39m__getitem__\u001b[39m(\u001b[39mself\u001b[39m, key):\n\u001b[1;32m   1517\u001b[0m     \u001b[39m\"\"\"tag[key] returns the value of the 'key' attribute for the Tag,\u001b[39;00m\n\u001b[1;32m   1518\u001b[0m \u001b[39m    and throws an exception if it's not there.\"\"\"\u001b[39;00m\n\u001b[0;32m-> 1519\u001b[0m     \u001b[39mreturn\u001b[39;00m \u001b[39mself\u001b[39;49m\u001b[39m.\u001b[39;49mattrs[key]\n",
      "\u001b[0;31mKeyError\u001b[0m: 'href'"
     ]
    }
   ],
   "source": [
    "for i in range(len(data)):\n",
    "    titleName = data[i].findAll('a')[0].findAll('span')[-1].text\n",
    "            \n",
    "    titleID = data[i].find('a')['href'].split('=')[-1]\n",
    "    try:\n",
    "        authorID = data[i].findAll('a')[1]['href'].split('=')[1]\n",
    "    except IndexError:\n",
    "        authorID = data[i].findAll('a')[0]['href'].split('=')[1]\n",
    "            \n",
    "    try:\n",
    "        authorName = data[i].findAll('a')[1].text\n",
    "    except IndexError:\n",
    "        authorName = data[i].findAll('a')[0].text\n",
    "            \n",
    "    if data[i].findAll('span')[0].text == 'UP' or data[i].findAll('span')[0].text == '휴재':\n",
    "        rating = data[i].findAll('span')[5].text\n",
    "    else:\n",
    "        rating = data[i].findAll('span')[4].text\n",
    "    \n",
    "    url = f\"https://comic.naver.com{data[i].findAll('a')[0]['href']}\"\n",
    "            \n",
    "            # df = pd.DataFrame(columns=['day','title', 'authorID', 'authorName','rating', 'url'])\n",
    "    df = pd.concat([df, pd.DataFrame([[day, titleName, titleID, authorName, authorID, rating, url]],\n",
    "                                    columns = ['day','titleName', 'titleID', 'authorName', 'authorID','rating', 'url'])], ignore_index=True)"
   ]
  }
 ],
 "metadata": {
  "kernelspec": {
   "display_name": "Python 3",
   "language": "python",
   "name": "python3"
  },
  "language_info": {
   "codemirror_mode": {
    "name": "ipython",
    "version": 3
   },
   "file_extension": ".py",
   "mimetype": "text/x-python",
   "name": "python",
   "nbconvert_exporter": "python",
   "pygments_lexer": "ipython3",
   "version": "3.9.5"
  },
  "orig_nbformat": 4,
  "vscode": {
   "interpreter": {
    "hash": "aee8b7b246df8f9039afb4144a1f6fd8d2ca17a180786b69acc140d282b71a49"
   }
  }
 },
 "nbformat": 4,
 "nbformat_minor": 2
}
