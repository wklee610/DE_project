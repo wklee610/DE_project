{
 "cells": [
  {
   "cell_type": "code",
   "execution_count": 40,
   "metadata": {},
   "outputs": [
    {
     "name": "stderr",
     "output_type": "stream",
     "text": [
      "/var/folders/7p/4qg7xngs2p9cwv9rq97048fc0000gn/T/ipykernel_60875/1547704011.py:8: DeprecationWarning: executable_path has been deprecated, please pass in a Service object\n",
      "  driver = webdriver.Chrome('../chromedriver.exe')\n"
     ]
    }
   ],
   "source": [
    "from bs4 import BeautifulSoup\n",
    "import requests\n",
    "import pandas as pd\n",
    "#from fake_useragent import UserAgent\n",
    "from selenium.webdriver.common.by import By\n",
    "from selenium import webdriver\n",
    "\n",
    "driver = webdriver.Chrome('../chromedriver.exe')\n"
   ]
  },
  {
   "cell_type": "code",
   "execution_count": 41,
   "metadata": {},
   "outputs": [],
   "source": [
    "#days = ['mon', 'tue', 'wed', 'thu','fri','sat','sun','dailyPlus', 'new', 'finish']\n",
    "day = 'tue'\n",
    "URL = f\"https://comic.naver.com/webtoon?tab={day}\"\n",
    "df = pd.DataFrame(columns=['day','titleName', 'titleID', 'authorName', 'authorID','rating', 'url'])\n",
    "\n",
    "driver.get(URL)"
   ]
  },
  {
   "cell_type": "code",
   "execution_count": 42,
   "metadata": {},
   "outputs": [],
   "source": [
    "soup = BeautifulSoup(driver.page_source, 'html.parser')\n",
    "data = soup.find_all('div', attrs={\"class\" : \"ContentList__info_area--bXx7h\"})"
   ]
  },
  {
   "cell_type": "code",
   "execution_count": 25,
   "metadata": {},
   "outputs": [
    {
     "name": "stdout",
     "output_type": "stream",
     "text": [
      "휴재\n"
     ]
    }
   ],
   "source": [
    "rating = data[31].findAll('span')[0].text\n",
    "print(rating)"
   ]
  },
  {
   "cell_type": "code",
   "execution_count": 43,
   "metadata": {},
   "outputs": [],
   "source": [
    "soup = BeautifulSoup(driver.page_source, 'html.parser')\n",
    "data = soup.find_all('div', attrs={\"class\" : \"ContentList__info_area--bXx7h\"})\n",
    "\n",
    "for i in range(len(data)):\n",
    "    titleName = data[i].findAll('a')[0].findAll('span')[-1].text\n",
    "            \n",
    "    titleID = data[i].find('a')['href'].split('=')[-1]\n",
    "    try:\n",
    "        authorID = data[i].findAll('a')[1]['href'].split('=')[1]\n",
    "    except IndexError:\n",
    "        authorID = data[i].findAll('a')[0]['href'].split('=')[1]\n",
    "            \n",
    "    try:\n",
    "        authorName = data[i].findAll('a')[1].text\n",
    "    except IndexError:\n",
    "        authorName = data[i].findAll('a')[0].text\n",
    "            \n",
    "    if data[i].findAll('span')[0].text == 'UP' or data[i].findAll('span')[0].text == '휴재':\n",
    "        rating = data[i].findAll('span')[5].text\n",
    "    else:\n",
    "        rating = data[i].findAll('span')[4].text\n",
    "    \n",
    "    url = f\"https://comic.naver.com{data[i].findAll('a')[0]['href']}\"\n",
    "            \n",
    "            # df = pd.DataFrame(columns=['day','title', 'authorID', 'authorName','rating', 'url'])\n",
    "    df = pd.concat([df, pd.DataFrame([[day, titleName, titleID, authorName, authorID, rating, url]],\n",
    "                                    columns = ['day','titleName', 'titleID', 'authorName', 'authorID','rating', 'url'])], ignore_index=True)"
   ]
  },
  {
   "cell_type": "code",
   "execution_count": 44,
   "metadata": {},
   "outputs": [
    {
     "name": "stdout",
     "output_type": "stream",
     "text": [
      "    day     titleName titleID      authorName authorID rating   \n",
      "0   tue           김부장  783053  박태준 만화회사 / 정종택   783053   9.42  \\\n",
      "1   tue     내가 키운 S급들  784248  seri / 비완 / 근서   784248   9.95   \n",
      "2   tue        마루는 강쥐  796152              모죠   325321   9.98   \n",
      "3   tue      대학원 탈출일지  790713              요다   353932   9.98   \n",
      "4   tue          여신강림  703846             야옹이   316796   9.34   \n",
      "..  ...           ...     ...             ...      ...    ...   \n",
      "73  tue      달이 사라진 밤  795649             황지음   356004   9.85   \n",
      "74  tue     찐:종합게임동아리  771018              소장   345445   9.82   \n",
      "75  tue         AI 유하  800400        박현 / 지홍주   800400   9.84   \n",
      "76  tue  너의 순정, 나의 순정  797258              정살   356862   9.85   \n",
      "77  tue         마녀이야기  794671              원재   355601   9.39   \n",
      "\n",
      "                                                  url  \n",
      "0   https://comic.naver.com/webtoon/list?titleId=7...  \n",
      "1   https://comic.naver.com/webtoon/list?titleId=7...  \n",
      "2   https://comic.naver.com/webtoon/list?titleId=7...  \n",
      "3   https://comic.naver.com/webtoon/list?titleId=7...  \n",
      "4   https://comic.naver.com/webtoon/list?titleId=7...  \n",
      "..                                                ...  \n",
      "73  https://comic.naver.com/webtoon/list?titleId=7...  \n",
      "74  https://comic.naver.com/webtoon/list?titleId=7...  \n",
      "75  https://comic.naver.com/webtoon/list?titleId=8...  \n",
      "76  https://comic.naver.com/webtoon/list?titleId=7...  \n",
      "77  https://comic.naver.com/webtoon/list?titleId=7...  \n",
      "\n",
      "[78 rows x 7 columns]\n"
     ]
    }
   ],
   "source": [
    "print(df)"
   ]
  },
  {
   "cell_type": "code",
   "execution_count": 38,
   "metadata": {},
   "outputs": [],
   "source": [
    "df.index += 1\n",
    "df.to_csv('webtoon_wed_data.csv', index_label='index')"
   ]
  },
  {
   "cell_type": "code",
   "execution_count": 39,
   "metadata": {},
   "outputs": [],
   "source": [
    "driver.close()"
   ]
  }
 ],
 "metadata": {
  "kernelspec": {
   "display_name": "Python 3",
   "language": "python",
   "name": "python3"
  },
  "language_info": {
   "codemirror_mode": {
    "name": "ipython",
    "version": 3
   },
   "file_extension": ".py",
   "mimetype": "text/x-python",
   "name": "python",
   "nbconvert_exporter": "python",
   "pygments_lexer": "ipython3",
   "version": "3.9.5"
  },
  "orig_nbformat": 4,
  "vscode": {
   "interpreter": {
    "hash": "aee8b7b246df8f9039afb4144a1f6fd8d2ca17a180786b69acc140d282b71a49"
   }
  }
 },
 "nbformat": 4,
 "nbformat_minor": 2
}
