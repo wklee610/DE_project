{
 "cells": [
  {
   "cell_type": "code",
   "execution_count": 22,
   "metadata": {},
   "outputs": [],
   "source": [
    "from bs4 import BeautifulSoup\n",
    "import requests\n",
    "import pandas as pd\n",
    "#from fake_useragent import UserAgent\n",
    "from selenium.webdriver.common.by import By\n",
    "from selenium import webdriver\n",
    "from selenium.webdriver.support.ui import WebDriverWait\n",
    "from selenium.webdriver.support import expected_conditions as EC\n",
    "import time\n",
    "\n"
   ]
  },
  {
   "cell_type": "code",
   "execution_count": 23,
   "metadata": {},
   "outputs": [
    {
     "name": "stderr",
     "output_type": "stream",
     "text": [
      "/var/folders/7p/4qg7xngs2p9cwv9rq97048fc0000gn/T/ipykernel_79184/1414845287.py:1: DeprecationWarning: executable_path has been deprecated, please pass in a Service object\n",
      "  driver = webdriver.Chrome('../chromedriver.exe')\n"
     ]
    }
   ],
   "source": [
    "\n",
    "driver = webdriver.Chrome('../chromedriver.exe')\n",
    "# chrome_options = webdriver.ChromeOptions()\n",
    "# chrome_options.add_argument('headless')\n",
    "# driver = webdriver.Chrome('/Users/andy/Desktop/github/DE_project/web_scraping/naver_webtoon/chromedriver', options=chrome_options)\n",
    "\n",
    "day = 'finish'\n",
    "URL = f\"https://comic.naver.com/webtoon?tab={day}\"\n",
    "\n",
    "df = pd.DataFrame(columns=['day','titleName', 'titleID', 'authorName', 'authorID','rating', 'url'])\n",
    "\n",
    "driver.get(URL)\n"
   ]
  },
  {
   "cell_type": "code",
   "execution_count": 24,
   "metadata": {},
   "outputs": [],
   "source": [
    "scroll_pause_time = 1 # 스크롤을 내릴 때마다 대기할 시간 (초)\n",
    "last_height = driver.execute_script(\"return document.body.scrollHeight\")"
   ]
  },
  {
   "cell_type": "code",
   "execution_count": 25,
   "metadata": {},
   "outputs": [],
   "source": [
    "while True:\n",
    "    driver.execute_script(\"window.scrollTo(0, document.body.scrollHeight);\")\n",
    "    time.sleep(scroll_pause_time)\n",
    "    new_height = driver.execute_script(\"return document.body.scrollHeight\")\n",
    "    if new_height == last_height:\n",
    "        break\n",
    "    last_height = new_height"
   ]
  },
  {
   "cell_type": "code",
   "execution_count": 28,
   "metadata": {},
   "outputs": [
    {
     "name": "stdout",
     "output_type": "stream",
     "text": [
      "<div class=\"ContentList__info_area--bXx7h\"><a class=\"ContentTitle__title_area--x24vt\" href=\"/webtoon/list?titleId=703846\"><span class=\"ContentTitle__title--e3qXt\"><span class=\"text\">여신강림</span></span></a><a class=\"ContentAuthor__author--CTAAP\" href=\"/artistTitle?id=316796\">야옹이</a><div class=\"rating_area\"><span class=\"Rating__star_area--dFzsb\"><i class=\"Rating__ico_star--BcfMb\"><svg aria-hidden=\"true\" fill=\"none\" height=\"19\" width=\"12\" xmlns=\"http://www.w3.org/2000/svg\"><path clip-rule=\"evenodd\" d=\"M6.25 12.991a.529.529 0 0 0-.5 0l-2.578 1.384a.529.529 0 0 1-.753-.632l.882-2.682a.529.529 0 0 0-.17-.576L.596 8.438a.529.529 0 0 1 .299-.94l3.049-.191a.529.529 0 0 0 .457-.33L5.51 4.22a.529.529 0 0 1 .982 0l1.107 2.756c.077.19.255.318.458.33l3.049.192c.481.03.674.637.299.94l-2.535 2.047a.529.529 0 0 0-.17.576l.881 2.682a.529.529 0 0 1-.752.632L6.25 12.99Z\" fill=\"#999\" fill-rule=\"evenodd\"></path></svg><span class=\"blind\">별점</span></i><span class=\"text\">9.34</span></span></div></div>\n"
     ]
    }
   ],
   "source": [
    "soup = BeautifulSoup(driver.page_source, 'html.parser')\n",
    "data = soup.find_all('div', attrs={\"class\" : \"ContentList__info_area--bXx7h\"})\n",
    "\n",
    "print(data[0])\n"
   ]
  },
  {
   "cell_type": "code",
   "execution_count": null,
   "metadata": {},
   "outputs": [],
   "source": [
    "# wait = WebDriverWait(driver, 10)\n",
    "# element = wait.until(EC.presence_of_element_located((By.TAG_NAME, \"body\")))\n",
    "\n",
    "soup = BeautifulSoup(driver.page_source, 'html.parser')\n",
    "data = soup.find_all('div', attrs={\"class\" : \"ContentList__info_area--bXx7h\"})\n",
    "\n",
    "print(data)"
   ]
  }
 ],
 "metadata": {
  "kernelspec": {
   "display_name": "Python 3",
   "language": "python",
   "name": "python3"
  },
  "language_info": {
   "codemirror_mode": {
    "name": "ipython",
    "version": 3
   },
   "file_extension": ".py",
   "mimetype": "text/x-python",
   "name": "python",
   "nbconvert_exporter": "python",
   "pygments_lexer": "ipython3",
   "version": "3.9.5"
  },
  "orig_nbformat": 4,
  "vscode": {
   "interpreter": {
    "hash": "aee8b7b246df8f9039afb4144a1f6fd8d2ca17a180786b69acc140d282b71a49"
   }
  }
 },
 "nbformat": 4,
 "nbformat_minor": 2
}
