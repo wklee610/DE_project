{
 "cells": [
  {
   "cell_type": "code",
   "execution_count": null,
   "metadata": {},
   "outputs": [],
   "source": [
    "from bs4 import BeautifulSoup\n",
    "import requests\n",
    "import pandas as pd\n",
    "#from fake_useragent import UserAgent\n",
    "from selenium.webdriver.common.by import By\n",
    "from selenium import webdriver\n",
    "\n",
    "#days = ['mon', 'tue', 'wed', 'thu','fri','sat','sun','dailyPlus', 'new', 'finish']\n",
    "days = ['mon', 'tue', 'wed', 'thu','fri','sat','sun','dailyPlus', 'new']\n",
    "\n",
    "for day in days:\n",
    "    chrome_options = webdriver.ChromeOptions()\n",
    "    chrome_options.add_argument('headless')\n",
    "    driver = webdriver.Chrome('../chromedriver.exe', options=chrome_options)\n",
    "\n",
    "    URL = f\"https://comic.naver.com/webtoon?tab={day}\"\n",
    "    df = pd.DataFrame(columns=['day','titleName', 'titleID', 'authorName', 'authorID','rating', 'url'])\n",
    "    driver.get(URL)\n",
    "    \n",
    "    soup = BeautifulSoup(driver.page_source, 'html.parser')\n",
    "    data = soup.find_all('div', attrs={\"class\" : \"ContentList__info_area--bXx7h\"})\n",
    "    \n",
    "    soup = BeautifulSoup(driver.page_source, 'html.parser')\n",
    "    data = soup.find_all('div', attrs={\"class\" : \"ContentList__info_area--bXx7h\"})\n",
    "\n",
    "    for i in range(len(data)):\n",
    "        titleName = data[i].findAll('a')[0].findAll('span')[-1].text\n",
    "                \n",
    "        titleID = data[i].find('a')['href'].split('=')[-1]\n",
    "        try:\n",
    "            authorID = data[i].findAll('a')[1]['href'].split('=')[1]\n",
    "        except IndexError:\n",
    "            authorID = data[i].findAll('a')[0]['href'].split('=')[1]\n",
    "                \n",
    "        try:\n",
    "            authorName = data[i].findAll('a')[1].text\n",
    "        except IndexError:\n",
    "            authorName = data[i].findAll('a')[0].text\n",
    "                \n",
    "        if data[i].findAll('span')[0].text == 'UP' or data[i].findAll('span')[0].text == '휴재':\n",
    "            rating = data[i].findAll('span')[5].text\n",
    "        else:\n",
    "            rating = data[i].findAll('span')[4].text\n",
    "        \n",
    "        url = f\"https://comic.naver.com{data[i].findAll('a')[0]['href']}\"\n",
    "                \n",
    "                # df = pd.DataFrame(columns=['day','title', 'authorID', 'authorName','rating', 'url'])\n",
    "        df = pd.concat([df, pd.DataFrame([[day, titleName, titleID, authorName, authorID, rating, url]],\n",
    "                                        columns = ['day','titleName', 'titleID', 'authorName', 'authorID','rating', 'url'])], ignore_index=True)\n",
    "    \n",
    "    df.index += 1\n",
    "    df.to_csv(f'./data/webtoon_{day}_data.csv', index_label='index')\n",
    "    \n",
    "    driver.close()    "
   ]
  },
  {
   "cell_type": "code",
   "execution_count": null,
   "metadata": {},
   "outputs": [],
   "source": []
  }
 ],
 "metadata": {
  "kernelspec": {
   "display_name": "Python 3",
   "language": "python",
   "name": "python3"
  },
  "language_info": {
   "name": "python",
   "version": "3.9.5"
  },
  "orig_nbformat": 4,
  "vscode": {
   "interpreter": {
    "hash": "aee8b7b246df8f9039afb4144a1f6fd8d2ca17a180786b69acc140d282b71a49"
   }
  }
 },
 "nbformat": 4,
 "nbformat_minor": 2
}
